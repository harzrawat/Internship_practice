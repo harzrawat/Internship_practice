{
 "cells": [
  {
   "cell_type": "markdown",
   "metadata": {},
   "source": [
    "# Data clean approach by predicting the missing values "
   ]
  },
  {
   "cell_type": "code",
   "execution_count": null,
   "metadata": {},
   "outputs": [],
   "source": []
  },
  {
   "cell_type": "markdown",
   "metadata": {},
   "source": [
    "# Data Cleaning and Preprocessing"
   ]
  },
  {
   "cell_type": "code",
   "execution_count": 89,
   "metadata": {},
   "outputs": [
    {
     "data": {
      "text/html": [
       "<div>\n",
       "<style scoped>\n",
       "    .dataframe tbody tr th:only-of-type {\n",
       "        vertical-align: middle;\n",
       "    }\n",
       "\n",
       "    .dataframe tbody tr th {\n",
       "        vertical-align: top;\n",
       "    }\n",
       "\n",
       "    .dataframe thead th {\n",
       "        text-align: right;\n",
       "    }\n",
       "</style>\n",
       "<table border=\"1\" class=\"dataframe\">\n",
       "  <thead>\n",
       "    <tr style=\"text-align: right;\">\n",
       "      <th></th>\n",
       "      <th>Customer ID</th>\n",
       "      <th>Name</th>\n",
       "      <th>Age</th>\n",
       "      <th>Date of Birth</th>\n",
       "      <th>Email</th>\n",
       "      <th>Income Status</th>\n",
       "      <th>Mobile No</th>\n",
       "      <th>Country</th>\n",
       "      <th>Mobile Active</th>\n",
       "      <th>Email Active</th>\n",
       "      <th>City</th>\n",
       "      <th>Action</th>\n",
       "      <th>Time Spent</th>\n",
       "      <th>Transaction_Amount</th>\n",
       "      <th>Product Code</th>\n",
       "      <th>Date</th>\n",
       "    </tr>\n",
       "  </thead>\n",
       "  <tbody>\n",
       "    <tr>\n",
       "      <th>0</th>\n",
       "      <td>SF282694</td>\n",
       "      <td>Patricia</td>\n",
       "      <td>40.0</td>\n",
       "      <td>1974-07-11</td>\n",
       "      <td>evaluated1847@example.com</td>\n",
       "      <td>&gt;=50k</td>\n",
       "      <td>2.219428e+12</td>\n",
       "      <td>Senegal</td>\n",
       "      <td>0.0</td>\n",
       "      <td>1.0</td>\n",
       "      <td>Dakar</td>\n",
       "      <td>['Shared product' 'Purchase' 'Login']</td>\n",
       "      <td>06:22:00</td>\n",
       "      <td>43.71</td>\n",
       "      <td>['CUAR6713', 'QKOT2844', 'XAXZ3838', 'OQEC0645...</td>\n",
       "      <td>2024-03-08</td>\n",
       "    </tr>\n",
       "    <tr>\n",
       "      <th>1</th>\n",
       "      <td>TE728273</td>\n",
       "      <td>Jae</td>\n",
       "      <td>38.0</td>\n",
       "      <td>1968-12-21</td>\n",
       "      <td>builds1944@example.org</td>\n",
       "      <td>&gt;=50k</td>\n",
       "      <td>2.137449e+12</td>\n",
       "      <td>Algeria</td>\n",
       "      <td>0.0</td>\n",
       "      <td>0.0</td>\n",
       "      <td>Ouled Moussa</td>\n",
       "      <td>['Save for later']</td>\n",
       "      <td>21:39:38</td>\n",
       "      <td>466.27</td>\n",
       "      <td>['WEMH5650', 'QKJY7652', 'SGIQ3300', 'ADJY3664...</td>\n",
       "      <td>2024-02-05</td>\n",
       "    </tr>\n",
       "    <tr>\n",
       "      <th>2</th>\n",
       "      <td>MS023187</td>\n",
       "      <td>Florrie</td>\n",
       "      <td>NaN</td>\n",
       "      <td>2003-11-13</td>\n",
       "      <td>set2066@gmail.com</td>\n",
       "      <td>&lt;50k</td>\n",
       "      <td>5.275073e+11</td>\n",
       "      <td>Mexico</td>\n",
       "      <td>1.0</td>\n",
       "      <td>1.0</td>\n",
       "      <td>Tacámbaro de Codallos</td>\n",
       "      <td>['Home Page Visit']</td>\n",
       "      <td>22:10:35</td>\n",
       "      <td>6916.92</td>\n",
       "      <td>['DAUY5260', 'XTYP8097', 'ZOQS0126', 'WXSG1545...</td>\n",
       "      <td>2024-03-16</td>\n",
       "    </tr>\n",
       "    <tr>\n",
       "      <th>3</th>\n",
       "      <td>ET367185</td>\n",
       "      <td>Roni</td>\n",
       "      <td>56.0</td>\n",
       "      <td>1965-12-24</td>\n",
       "      <td>refers2025@example.com</td>\n",
       "      <td>NaN</td>\n",
       "      <td>8.893565e+09</td>\n",
       "      <td>BDlgium</td>\n",
       "      <td>0.0</td>\n",
       "      <td>1.0</td>\n",
       "      <td>Wanze</td>\n",
       "      <td>['Shared product']</td>\n",
       "      <td>06:33:51</td>\n",
       "      <td>NaN</td>\n",
       "      <td>['TXQG5693', 'LTPN2981', 'ONFN7108', 'BNAA2857...</td>\n",
       "      <td>2024-02-08</td>\n",
       "    </tr>\n",
       "    <tr>\n",
       "      <th>4</th>\n",
       "      <td>JG458278</td>\n",
       "      <td>Donald</td>\n",
       "      <td>58.0</td>\n",
       "      <td>1968-11-27</td>\n",
       "      <td>ink1817@yahoo.com</td>\n",
       "      <td>unemployed</td>\n",
       "      <td>5.582782e+11</td>\n",
       "      <td>Brazil</td>\n",
       "      <td>0.0</td>\n",
       "      <td>0.0</td>\n",
       "      <td>Xihue-Xique</td>\n",
       "      <td>['Add to cart' 'order cancel']</td>\n",
       "      <td>17:49:45</td>\n",
       "      <td>6647.11</td>\n",
       "      <td>[]</td>\n",
       "      <td>2024-02-08</td>\n",
       "    </tr>\n",
       "    <tr>\n",
       "      <th>...</th>\n",
       "      <td>...</td>\n",
       "      <td>...</td>\n",
       "      <td>...</td>\n",
       "      <td>...</td>\n",
       "      <td>...</td>\n",
       "      <td>...</td>\n",
       "      <td>...</td>\n",
       "      <td>...</td>\n",
       "      <td>...</td>\n",
       "      <td>...</td>\n",
       "      <td>...</td>\n",
       "      <td>...</td>\n",
       "      <td>...</td>\n",
       "      <td>...</td>\n",
       "      <td>...</td>\n",
       "      <td>...</td>\n",
       "    </tr>\n",
       "    <tr>\n",
       "      <th>199995</th>\n",
       "      <td>HQ974646</td>\n",
       "      <td>Dayle</td>\n",
       "      <td>31.0</td>\n",
       "      <td>1987-07-12</td>\n",
       "      <td>available2023@gmail.com</td>\n",
       "      <td>&lt;50k</td>\n",
       "      <td>3.368114e+11</td>\n",
       "      <td>France</td>\n",
       "      <td>1.0</td>\n",
       "      <td>0.0</td>\n",
       "      <td>Vierzon</td>\n",
       "      <td>['Save for later']</td>\n",
       "      <td>17:35:16</td>\n",
       "      <td>2011.85</td>\n",
       "      <td>['GLQX4238', 'HLPN8296', 'DVPT9828', 'CWNX2320...</td>\n",
       "      <td>2024-05-31</td>\n",
       "    </tr>\n",
       "    <tr>\n",
       "      <th>199996</th>\n",
       "      <td>LP668576</td>\n",
       "      <td>Guillermo</td>\n",
       "      <td>58.0</td>\n",
       "      <td>2006-09-02</td>\n",
       "      <td>supervisor1984@gmail.com</td>\n",
       "      <td>&lt;50k</td>\n",
       "      <td>4.498647e+11</td>\n",
       "      <td>United Kingdom</td>\n",
       "      <td>1.0</td>\n",
       "      <td>1.0</td>\n",
       "      <td>Hucclecote</td>\n",
       "      <td>['Other' 'order cancel']</td>\n",
       "      <td>08:29:56</td>\n",
       "      <td>7210.63</td>\n",
       "      <td>[]</td>\n",
       "      <td>2024-06-15</td>\n",
       "    </tr>\n",
       "    <tr>\n",
       "      <th>199997</th>\n",
       "      <td>BG394075</td>\n",
       "      <td>Shela</td>\n",
       "      <td>64.0</td>\n",
       "      <td>1987-01-19</td>\n",
       "      <td>honolulu2010@live.com</td>\n",
       "      <td>&gt;=50k</td>\n",
       "      <td>3.898101e+12</td>\n",
       "      <td>North Macedonia</td>\n",
       "      <td>0.0</td>\n",
       "      <td>1.0</td>\n",
       "      <td>Struga</td>\n",
       "      <td>['order cancel']</td>\n",
       "      <td>17:35:14</td>\n",
       "      <td>NaN</td>\n",
       "      <td>['RRDR6447', 'CEEO7453']</td>\n",
       "      <td>2024-04-11</td>\n",
       "    </tr>\n",
       "    <tr>\n",
       "      <th>199998</th>\n",
       "      <td>VR528159</td>\n",
       "      <td>Marguerita</td>\n",
       "      <td>16.0</td>\n",
       "      <td>2003-03-10</td>\n",
       "      <td>mls1957@example.org</td>\n",
       "      <td>&lt;50k</td>\n",
       "      <td>9.169383e+11</td>\n",
       "      <td>India</td>\n",
       "      <td>1.0</td>\n",
       "      <td>0.0</td>\n",
       "      <td>NagXa</td>\n",
       "      <td>['Save for later' 'Add to cart']</td>\n",
       "      <td>10:39:46</td>\n",
       "      <td>43.14</td>\n",
       "      <td>['FZAX9549', 'BWSX1001']</td>\n",
       "      <td>2024-02-14</td>\n",
       "    </tr>\n",
       "    <tr>\n",
       "      <th>199999</th>\n",
       "      <td>AU099511</td>\n",
       "      <td>Florentina</td>\n",
       "      <td>37.0</td>\n",
       "      <td>2009-07-19</td>\n",
       "      <td>memory1931@yandex.com</td>\n",
       "      <td>&gt;=50k</td>\n",
       "      <td>9.160877e+11</td>\n",
       "      <td>India</td>\n",
       "      <td>0.0</td>\n",
       "      <td>1.0</td>\n",
       "      <td>Kataha</td>\n",
       "      <td>NaN</td>\n",
       "      <td>12:16:42</td>\n",
       "      <td>96.45</td>\n",
       "      <td>['QGQC0495', 'YUHI1623', 'ZENL5241', 'NXON2002...</td>\n",
       "      <td>2024-06-06</td>\n",
       "    </tr>\n",
       "  </tbody>\n",
       "</table>\n",
       "<p>200000 rows × 16 columns</p>\n",
       "</div>"
      ],
      "text/plain": [
       "       Customer ID        Name   Age Date of Birth                      Email  \\\n",
       "0         SF282694    Patricia  40.0    1974-07-11  evaluated1847@example.com   \n",
       "1         TE728273         Jae  38.0    1968-12-21     builds1944@example.org   \n",
       "2         MS023187     Florrie   NaN    2003-11-13          set2066@gmail.com   \n",
       "3         ET367185        Roni  56.0    1965-12-24     refers2025@example.com   \n",
       "4         JG458278      Donald  58.0    1968-11-27          ink1817@yahoo.com   \n",
       "...            ...         ...   ...           ...                        ...   \n",
       "199995    HQ974646       Dayle  31.0    1987-07-12    available2023@gmail.com   \n",
       "199996    LP668576   Guillermo  58.0    2006-09-02   supervisor1984@gmail.com   \n",
       "199997    BG394075       Shela  64.0    1987-01-19      honolulu2010@live.com   \n",
       "199998    VR528159  Marguerita  16.0    2003-03-10        mls1957@example.org   \n",
       "199999    AU099511  Florentina  37.0    2009-07-19      memory1931@yandex.com   \n",
       "\n",
       "       Income Status     Mobile No          Country  Mobile Active  \\\n",
       "0              >=50k  2.219428e+12          Senegal            0.0   \n",
       "1              >=50k  2.137449e+12          Algeria            0.0   \n",
       "2               <50k  5.275073e+11           Mexico            1.0   \n",
       "3                NaN  8.893565e+09          BDlgium            0.0   \n",
       "4         unemployed  5.582782e+11           Brazil            0.0   \n",
       "...              ...           ...              ...            ...   \n",
       "199995          <50k  3.368114e+11           France            1.0   \n",
       "199996          <50k  4.498647e+11   United Kingdom            1.0   \n",
       "199997         >=50k  3.898101e+12  North Macedonia            0.0   \n",
       "199998          <50k  9.169383e+11            India            1.0   \n",
       "199999         >=50k  9.160877e+11            India            0.0   \n",
       "\n",
       "        Email Active                   City  \\\n",
       "0                1.0                  Dakar   \n",
       "1                0.0           Ouled Moussa   \n",
       "2                1.0  Tacámbaro de Codallos   \n",
       "3                1.0                  Wanze   \n",
       "4                0.0            Xihue-Xique   \n",
       "...              ...                    ...   \n",
       "199995           0.0                Vierzon   \n",
       "199996           1.0             Hucclecote   \n",
       "199997           1.0                 Struga   \n",
       "199998           0.0                  NagXa   \n",
       "199999           1.0                 Kataha   \n",
       "\n",
       "                                       Action Time Spent  Transaction_Amount  \\\n",
       "0       ['Shared product' 'Purchase' 'Login']   06:22:00               43.71   \n",
       "1                          ['Save for later']   21:39:38              466.27   \n",
       "2                         ['Home Page Visit']   22:10:35             6916.92   \n",
       "3                          ['Shared product']   06:33:51                 NaN   \n",
       "4              ['Add to cart' 'order cancel']   17:49:45             6647.11   \n",
       "...                                       ...        ...                 ...   \n",
       "199995                     ['Save for later']   17:35:16             2011.85   \n",
       "199996               ['Other' 'order cancel']   08:29:56             7210.63   \n",
       "199997                       ['order cancel']   17:35:14                 NaN   \n",
       "199998       ['Save for later' 'Add to cart']   10:39:46               43.14   \n",
       "199999                                    NaN   12:16:42               96.45   \n",
       "\n",
       "                                             Product Code        Date  \n",
       "0       ['CUAR6713', 'QKOT2844', 'XAXZ3838', 'OQEC0645...  2024-03-08  \n",
       "1       ['WEMH5650', 'QKJY7652', 'SGIQ3300', 'ADJY3664...  2024-02-05  \n",
       "2       ['DAUY5260', 'XTYP8097', 'ZOQS0126', 'WXSG1545...  2024-03-16  \n",
       "3       ['TXQG5693', 'LTPN2981', 'ONFN7108', 'BNAA2857...  2024-02-08  \n",
       "4                                                      []  2024-02-08  \n",
       "...                                                   ...         ...  \n",
       "199995  ['GLQX4238', 'HLPN8296', 'DVPT9828', 'CWNX2320...  2024-05-31  \n",
       "199996                                                 []  2024-06-15  \n",
       "199997                           ['RRDR6447', 'CEEO7453']  2024-04-11  \n",
       "199998                           ['FZAX9549', 'BWSX1001']  2024-02-14  \n",
       "199999  ['QGQC0495', 'YUHI1623', 'ZENL5241', 'NXON2002...  2024-06-06  \n",
       "\n",
       "[200000 rows x 16 columns]"
      ]
     },
     "execution_count": 89,
     "metadata": {},
     "output_type": "execute_result"
    }
   ],
   "source": [
    "import pandas as pd\n",
    "df = pd.read_csv('dirty_data.csv')\n",
    "\n",
    "# droping duplicates\n",
    "\n",
    "df.drop_duplicates()\n",
    "df"
   ]
  },
  {
   "cell_type": "code",
   "execution_count": 90,
   "metadata": {},
   "outputs": [
    {
     "name": "stdout",
     "output_type": "stream",
     "text": [
      "<class 'pandas.core.frame.DataFrame'>\n",
      "RangeIndex: 200000 entries, 0 to 199999\n",
      "Data columns (total 16 columns):\n",
      " #   Column              Non-Null Count   Dtype  \n",
      "---  ------              --------------   -----  \n",
      " 0   Customer ID         190400 non-null  object \n",
      " 1   Name                190200 non-null  object \n",
      " 2   Age                 194000 non-null  float64\n",
      " 3   Date of Birth       192400 non-null  object \n",
      " 4   Email               192400 non-null  object \n",
      " 5   Income Status       189800 non-null  object \n",
      " 6   Mobile No           191200 non-null  float64\n",
      " 7   Country             197200 non-null  object \n",
      " 8   Mobile Active       193200 non-null  float64\n",
      " 9   Email Active        192600 non-null  float64\n",
      " 10  City                195400 non-null  object \n",
      " 11  Action              190200 non-null  object \n",
      " 12  Time Spent          193800 non-null  object \n",
      " 13  Transaction_Amount  147421 non-null  float64\n",
      " 14  Product Code        191200 non-null  object \n",
      " 15  Date                200000 non-null  object \n",
      "dtypes: float64(5), object(11)\n",
      "memory usage: 24.4+ MB\n"
     ]
    }
   ],
   "source": [
    "df.info()"
   ]
  },
  {
   "cell_type": "code",
   "execution_count": 91,
   "metadata": {},
   "outputs": [],
   "source": [
    "useful_df = df[['Customer ID','Email Active','Mobile Active','City','Time Spent', 'Transaction_Amount', 'Product Code']]"
   ]
  },
  {
   "cell_type": "markdown",
   "metadata": {},
   "source": [
    "# Removing missing values"
   ]
  },
  {
   "cell_type": "markdown",
   "metadata": {},
   "source": [
    "removing the customer whose transaction is zero throughout\n",
    "\n",
    "ALso removing data with no cutomer ID"
   ]
  },
  {
   "cell_type": "code",
   "execution_count": 1,
   "metadata": {},
   "outputs": [],
   "source": [
    "# df2 = df.groupby('Customer ID')\n",
    "# df3 = df2['Transaction_Amount'].sum().reset_index()\n",
    "# df3"
   ]
  },
  {
   "cell_type": "code",
   "execution_count": 112,
   "metadata": {},
   "outputs": [],
   "source": [
    "\n",
    "# to_remove_cutomer_lst = df3[df3[\"Transaction_Amount\"]==0]['Customer ID'].tolist()\n",
    "# df = df[(~df['Customer ID'].isin(to_remove_cutomer_lst)) & (df['Customer ID'].notnull()) & (df['Transaction_Amount'].notnull())]"
   ]
  },
  {
   "cell_type": "code",
   "execution_count": 2,
   "metadata": {},
   "outputs": [],
   "source": [
    "# df"
   ]
  },
  {
   "cell_type": "markdown",
   "metadata": {},
   "source": [
    "# Removing Outliers"
   ]
  },
  {
   "cell_type": "code",
   "execution_count": 110,
   "metadata": {},
   "outputs": [
    {
     "data": {
      "text/plain": [
       "38933.07324039676"
      ]
     },
     "execution_count": 110,
     "metadata": {},
     "output_type": "execute_result"
    }
   ],
   "source": [
    "df['Transaction_Amount'].quantile(1)"
   ]
  },
  {
   "cell_type": "code",
   "execution_count": 122,
   "metadata": {},
   "outputs": [
    {
     "name": "stdout",
     "output_type": "stream",
     "text": [
      "79.17 4254.7525000000005\n",
      "-6184.203750000001 10518.126250000001\n",
      "Empty DataFrame\n",
      "Columns: [Customer ID, Name, Age, Date of Birth, Email, Income Status, Mobile No, Country, Mobile Active, Email Active, City, Action, Time Spent, Transaction_Amount, Product Code, Date]\n",
      "Index: []\n"
     ]
    }
   ],
   "source": [
    "def remove_outliers(df, column):\n",
    "    Q1 = df[column].quantile(0.25)\n",
    "    Q3 = df[column].quantile(0.75)\n",
    "    print(Q1,Q3)\n",
    "    IQR = Q3 - Q1\n",
    "    lower_bound = Q1 - 1.5 * IQR\n",
    "    upper_bound = Q3 + 1.5 * IQR\n",
    "    print(lower_bound,upper_bound)\n",
    "    print(df[(df[column] < lower_bound) & (df[column] > upper_bound)])\n",
    "    return df[(df[column] >= lower_bound) & (df[column] <= upper_bound)]\n",
    "\n",
    "df2 = remove_outliers(df,'Transaction_Amount')\n"
   ]
  },
  {
   "cell_type": "markdown",
   "metadata": {},
   "source": [
    "Visualising Outliers"
   ]
  },
  {
   "cell_type": "code",
   "execution_count": 123,
   "metadata": {},
   "outputs": [
    {
     "data": {
      "text/plain": [
       "<Axes: ylabel='Transaction_Amount'>"
      ]
     },
     "execution_count": 123,
     "metadata": {},
     "output_type": "execute_result"
    },
    {
     "data": {
      "image/png": "[encoded data removed]",
      "text/plain": [
       "<Figure size 640x480 with 1 Axes>"
      ]
     },
     "metadata": {},
     "output_type": "display_data"
    }
   ],
   "source": [
    "# import seaborn as sns\n",
    "# sns.boxplot(df['Transaction_Amount'])\n"
   ]
  },
  {
   "cell_type": "code",
   "execution_count": 3,
   "metadata": {},
   "outputs": [],
   "source": [
    "# df2"
   ]
  },
  {
   "cell_type": "markdown",
   "metadata": {},
   "source": [
    "# CLTV CALCULATION\n"
   ]
  },
  {
   "cell_type": "code",
   "execution_count": null,
   "metadata": {},
   "outputs": [],
   "source": [
    "for i in "
   ]
  },
  {
   "cell_type": "code",
   "execution_count": 5,
   "metadata": {},
   "outputs": [],
   "source": [
    "useful_df['CLTV'] = "
   ]
  },
  {
   "cell_type": "code",
   "execution_count": null,
   "metadata": {},
   "outputs": [],
   "source": []
  }
 ],
 "metadata": {
  "kernelspec": {
   "display_name": "Python 3",
   "language": "python",
   "name": "python3"
  },
  "language_info": {
   "codemirror_mode": {
    "name": "ipython",
    "version": 3
   },
   "file_extension": ".py",
   "mimetype": "text/x-python",
   "name": "python",
   "nbconvert_exporter": "python",
   "pygments_lexer": "ipython3",
   "version": "3.12.4"
  }
 },
 "nbformat": 4,
 "nbformat_minor": 2
}
