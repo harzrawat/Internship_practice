{
 "cells": [
  {
   "cell_type": "markdown",
   "metadata": {},
   "source": [
    "# Data clean approach by remocing all null values"
   ]
  },
  {
   "cell_type": "code",
   "execution_count": 2,
   "metadata": {},
   "outputs": [],
   "source": [
    "# import datetime\n",
    "# s=datetime.datetime.now()\n"
   ]
  },
  {
   "cell_type": "code",
   "execution_count": 3,
   "metadata": {},
   "outputs": [],
   "source": [
    "# import pandas as pd\n",
    "# import random\n",
    "# import datetime\n",
    "# df = pd.read_csv('dirty_data.csv')\n",
    "# df['Data'] = [datetime.date.today() - datetime.timedelta(days=random.randint(1,165)) for i in range(200000)]\n"
   ]
  },
  {
   "cell_type": "code",
   "execution_count": 4,
   "metadata": {},
   "outputs": [],
   "source": [
    "# df = df.rename(columns={'Data':'Date'})"
   ]
  },
  {
   "cell_type": "code",
   "execution_count": 5,
   "metadata": {},
   "outputs": [],
   "source": [
    "# df.to_csv('dirty_data.csv',index=False)"
   ]
  },
  {
   "cell_type": "markdown",
   "metadata": {},
   "source": [
    "# Data Cleaning and Preprocessing"
   ]
  },
  {
   "cell_type": "code",
   "execution_count": 30,
   "metadata": {},
   "outputs": [
    {
     "data": {
      "text/html": [
       "<div>\n",
       "<style scoped>\n",
       "    .dataframe tbody tr th:only-of-type {\n",
       "        vertical-align: middle;\n",
       "    }\n",
       "\n",
       "    .dataframe tbody tr th {\n",
       "        vertical-align: top;\n",
       "    }\n",
       "\n",
       "    .dataframe thead th {\n",
       "        text-align: right;\n",
       "    }\n",
       "</style>\n",
       "<table border=\"1\" class=\"dataframe\">\n",
       "  <thead>\n",
       "    <tr style=\"text-align: right;\">\n",
       "      <th></th>\n",
       "      <th>Customer ID</th>\n",
       "      <th>Email Active</th>\n",
       "      <th>Mobile Active</th>\n",
       "      <th>City</th>\n",
       "      <th>Time Spent</th>\n",
       "      <th>Transaction_Amount</th>\n",
       "      <th>Product Code</th>\n",
       "      <th>Date</th>\n",
       "    </tr>\n",
       "  </thead>\n",
       "  <tbody>\n",
       "    <tr>\n",
       "      <th>0</th>\n",
       "      <td>SF282694</td>\n",
       "      <td>1.0</td>\n",
       "      <td>0.0</td>\n",
       "      <td>Dakar</td>\n",
       "      <td>06:22:00</td>\n",
       "      <td>43.71</td>\n",
       "      <td>['CUAR6713', 'QKOT2844', 'XAXZ3838', 'OQEC0645...</td>\n",
       "      <td>2024-03-08</td>\n",
       "    </tr>\n",
       "    <tr>\n",
       "      <th>1</th>\n",
       "      <td>TE728273</td>\n",
       "      <td>0.0</td>\n",
       "      <td>0.0</td>\n",
       "      <td>Ouled Moussa</td>\n",
       "      <td>21:39:38</td>\n",
       "      <td>466.27</td>\n",
       "      <td>['WEMH5650', 'QKJY7652', 'SGIQ3300', 'ADJY3664...</td>\n",
       "      <td>2024-02-05</td>\n",
       "    </tr>\n",
       "    <tr>\n",
       "      <th>2</th>\n",
       "      <td>MS023187</td>\n",
       "      <td>1.0</td>\n",
       "      <td>1.0</td>\n",
       "      <td>Tacámbaro de Codallos</td>\n",
       "      <td>22:10:35</td>\n",
       "      <td>6916.92</td>\n",
       "      <td>['DAUY5260', 'XTYP8097', 'ZOQS0126', 'WXSG1545...</td>\n",
       "      <td>2024-03-16</td>\n",
       "    </tr>\n",
       "    <tr>\n",
       "      <th>3</th>\n",
       "      <td>ET367185</td>\n",
       "      <td>1.0</td>\n",
       "      <td>0.0</td>\n",
       "      <td>Wanze</td>\n",
       "      <td>06:33:51</td>\n",
       "      <td>NaN</td>\n",
       "      <td>['TXQG5693', 'LTPN2981', 'ONFN7108', 'BNAA2857...</td>\n",
       "      <td>2024-02-08</td>\n",
       "    </tr>\n",
       "    <tr>\n",
       "      <th>4</th>\n",
       "      <td>JG458278</td>\n",
       "      <td>0.0</td>\n",
       "      <td>0.0</td>\n",
       "      <td>Xihue-Xique</td>\n",
       "      <td>17:49:45</td>\n",
       "      <td>6647.11</td>\n",
       "      <td>[]</td>\n",
       "      <td>2024-02-08</td>\n",
       "    </tr>\n",
       "    <tr>\n",
       "      <th>...</th>\n",
       "      <td>...</td>\n",
       "      <td>...</td>\n",
       "      <td>...</td>\n",
       "      <td>...</td>\n",
       "      <td>...</td>\n",
       "      <td>...</td>\n",
       "      <td>...</td>\n",
       "      <td>...</td>\n",
       "    </tr>\n",
       "    <tr>\n",
       "      <th>199995</th>\n",
       "      <td>HQ974646</td>\n",
       "      <td>0.0</td>\n",
       "      <td>1.0</td>\n",
       "      <td>Vierzon</td>\n",
       "      <td>17:35:16</td>\n",
       "      <td>2011.85</td>\n",
       "      <td>['GLQX4238', 'HLPN8296', 'DVPT9828', 'CWNX2320...</td>\n",
       "      <td>2024-05-31</td>\n",
       "    </tr>\n",
       "    <tr>\n",
       "      <th>199996</th>\n",
       "      <td>LP668576</td>\n",
       "      <td>1.0</td>\n",
       "      <td>1.0</td>\n",
       "      <td>Hucclecote</td>\n",
       "      <td>08:29:56</td>\n",
       "      <td>7210.63</td>\n",
       "      <td>[]</td>\n",
       "      <td>2024-06-15</td>\n",
       "    </tr>\n",
       "    <tr>\n",
       "      <th>199997</th>\n",
       "      <td>BG394075</td>\n",
       "      <td>1.0</td>\n",
       "      <td>0.0</td>\n",
       "      <td>Struga</td>\n",
       "      <td>17:35:14</td>\n",
       "      <td>NaN</td>\n",
       "      <td>['RRDR6447', 'CEEO7453']</td>\n",
       "      <td>2024-04-11</td>\n",
       "    </tr>\n",
       "    <tr>\n",
       "      <th>199998</th>\n",
       "      <td>VR528159</td>\n",
       "      <td>0.0</td>\n",
       "      <td>1.0</td>\n",
       "      <td>NagXa</td>\n",
       "      <td>10:39:46</td>\n",
       "      <td>43.14</td>\n",
       "      <td>['FZAX9549', 'BWSX1001']</td>\n",
       "      <td>2024-02-14</td>\n",
       "    </tr>\n",
       "    <tr>\n",
       "      <th>199999</th>\n",
       "      <td>AU099511</td>\n",
       "      <td>1.0</td>\n",
       "      <td>0.0</td>\n",
       "      <td>Kataha</td>\n",
       "      <td>12:16:42</td>\n",
       "      <td>96.45</td>\n",
       "      <td>['QGQC0495', 'YUHI1623', 'ZENL5241', 'NXON2002...</td>\n",
       "      <td>2024-06-06</td>\n",
       "    </tr>\n",
       "  </tbody>\n",
       "</table>\n",
       "<p>200000 rows × 8 columns</p>\n",
       "</div>"
      ],
      "text/plain": [
       "       Customer ID  Email Active  Mobile Active                   City  \\\n",
       "0         SF282694           1.0            0.0                  Dakar   \n",
       "1         TE728273           0.0            0.0           Ouled Moussa   \n",
       "2         MS023187           1.0            1.0  Tacámbaro de Codallos   \n",
       "3         ET367185           1.0            0.0                  Wanze   \n",
       "4         JG458278           0.0            0.0            Xihue-Xique   \n",
       "...            ...           ...            ...                    ...   \n",
       "199995    HQ974646           0.0            1.0                Vierzon   \n",
       "199996    LP668576           1.0            1.0             Hucclecote   \n",
       "199997    BG394075           1.0            0.0                 Struga   \n",
       "199998    VR528159           0.0            1.0                  NagXa   \n",
       "199999    AU099511           1.0            0.0                 Kataha   \n",
       "\n",
       "       Time Spent  Transaction_Amount  \\\n",
       "0        06:22:00               43.71   \n",
       "1        21:39:38              466.27   \n",
       "2        22:10:35             6916.92   \n",
       "3        06:33:51                 NaN   \n",
       "4        17:49:45             6647.11   \n",
       "...           ...                 ...   \n",
       "199995   17:35:16             2011.85   \n",
       "199996   08:29:56             7210.63   \n",
       "199997   17:35:14                 NaN   \n",
       "199998   10:39:46               43.14   \n",
       "199999   12:16:42               96.45   \n",
       "\n",
       "                                             Product Code        Date  \n",
       "0       ['CUAR6713', 'QKOT2844', 'XAXZ3838', 'OQEC0645...  2024-03-08  \n",
       "1       ['WEMH5650', 'QKJY7652', 'SGIQ3300', 'ADJY3664...  2024-02-05  \n",
       "2       ['DAUY5260', 'XTYP8097', 'ZOQS0126', 'WXSG1545...  2024-03-16  \n",
       "3       ['TXQG5693', 'LTPN2981', 'ONFN7108', 'BNAA2857...  2024-02-08  \n",
       "4                                                      []  2024-02-08  \n",
       "...                                                   ...         ...  \n",
       "199995  ['GLQX4238', 'HLPN8296', 'DVPT9828', 'CWNX2320...  2024-05-31  \n",
       "199996                                                 []  2024-06-15  \n",
       "199997                           ['RRDR6447', 'CEEO7453']  2024-04-11  \n",
       "199998                           ['FZAX9549', 'BWSX1001']  2024-02-14  \n",
       "199999  ['QGQC0495', 'YUHI1623', 'ZENL5241', 'NXON2002...  2024-06-06  \n",
       "\n",
       "[200000 rows x 8 columns]"
      ]
     },
     "execution_count": 30,
     "metadata": {},
     "output_type": "execute_result"
    }
   ],
   "source": [
    "import pandas as pd\n",
    "df = pd.read_csv('dirty_data.csv')\n",
    "\n",
    "# droping duplicates\n",
    "\n",
    "df.drop_duplicates()\n",
    "df = df[['Customer ID','Email Active','Mobile Active','City','Time Spent', 'Transaction_Amount', 'Product Code','Date']]\n",
    "df"
   ]
  },
  {
   "cell_type": "code",
   "execution_count": 20,
   "metadata": {},
   "outputs": [
    {
     "name": "stdout",
     "output_type": "stream",
     "text": [
      "<class 'pandas.core.frame.DataFrame'>\n",
      "RangeIndex: 200000 entries, 0 to 199999\n",
      "Data columns (total 8 columns):\n",
      " #   Column              Non-Null Count   Dtype  \n",
      "---  ------              --------------   -----  \n",
      " 0   Customer ID         190400 non-null  object \n",
      " 1   Email Active        192600 non-null  float64\n",
      " 2   Mobile Active       193200 non-null  float64\n",
      " 3   City                195400 non-null  object \n",
      " 4   Time Spent          193800 non-null  object \n",
      " 5   Transaction_Amount  147421 non-null  float64\n",
      " 6   Product Code        191200 non-null  object \n",
      " 7   Date                200000 non-null  object \n",
      "dtypes: float64(3), object(5)\n",
      "memory usage: 12.2+ MB\n"
     ]
    }
   ],
   "source": [
    "df.info()"
   ]
  },
  {
   "cell_type": "code",
   "execution_count": 8,
   "metadata": {},
   "outputs": [],
   "source": [
    "useful_df = df[['Customer ID','Email Active','Mobile Active','City','Time Spent', 'Transaction_Amount', 'Product Code']]"
   ]
  },
  {
   "cell_type": "markdown",
   "metadata": {},
   "source": [
    "# Removing missing values"
   ]
  },
  {
   "cell_type": "markdown",
   "metadata": {},
   "source": [
    "removing the customer whose transaction is zero throughout\n",
    "\n",
    "ALso removing data with no cutomer ID"
   ]
  },
  {
   "cell_type": "code",
   "execution_count": 31,
   "metadata": {},
   "outputs": [
    {
     "data": {
      "text/html": [
       "<div>\n",
       "<style scoped>\n",
       "    .dataframe tbody tr th:only-of-type {\n",
       "        vertical-align: middle;\n",
       "    }\n",
       "\n",
       "    .dataframe tbody tr th {\n",
       "        vertical-align: top;\n",
       "    }\n",
       "\n",
       "    .dataframe thead th {\n",
       "        text-align: right;\n",
       "    }\n",
       "</style>\n",
       "<table border=\"1\" class=\"dataframe\">\n",
       "  <thead>\n",
       "    <tr style=\"text-align: right;\">\n",
       "      <th></th>\n",
       "      <th>Customer ID</th>\n",
       "      <th>Transaction_Amount</th>\n",
       "    </tr>\n",
       "  </thead>\n",
       "  <tbody>\n",
       "    <tr>\n",
       "      <th>0</th>\n",
       "      <td>AA116777</td>\n",
       "      <td>24791.220000</td>\n",
       "    </tr>\n",
       "    <tr>\n",
       "      <th>1</th>\n",
       "      <td>AA143732</td>\n",
       "      <td>12970.960000</td>\n",
       "    </tr>\n",
       "    <tr>\n",
       "      <th>2</th>\n",
       "      <td>AA205029</td>\n",
       "      <td>17882.800000</td>\n",
       "    </tr>\n",
       "    <tr>\n",
       "      <th>3</th>\n",
       "      <td>AA445608</td>\n",
       "      <td>29100.040000</td>\n",
       "    </tr>\n",
       "    <tr>\n",
       "      <th>4</th>\n",
       "      <td>AA600175</td>\n",
       "      <td>25446.950000</td>\n",
       "    </tr>\n",
       "    <tr>\n",
       "      <th>...</th>\n",
       "      <td>...</td>\n",
       "      <td>...</td>\n",
       "    </tr>\n",
       "    <tr>\n",
       "      <th>9993</th>\n",
       "      <td>ZZ650387</td>\n",
       "      <td>69510.400592</td>\n",
       "    </tr>\n",
       "    <tr>\n",
       "      <th>9994</th>\n",
       "      <td>ZZ708333</td>\n",
       "      <td>47975.439268</td>\n",
       "    </tr>\n",
       "    <tr>\n",
       "      <th>9995</th>\n",
       "      <td>ZZ882011</td>\n",
       "      <td>21599.420000</td>\n",
       "    </tr>\n",
       "    <tr>\n",
       "      <th>9996</th>\n",
       "      <td>ZZ926625</td>\n",
       "      <td>37181.657944</td>\n",
       "    </tr>\n",
       "    <tr>\n",
       "      <th>9997</th>\n",
       "      <td>ZZ961364</td>\n",
       "      <td>35224.845296</td>\n",
       "    </tr>\n",
       "  </tbody>\n",
       "</table>\n",
       "<p>9998 rows × 2 columns</p>\n",
       "</div>"
      ],
      "text/plain": [
       "     Customer ID  Transaction_Amount\n",
       "0       AA116777        24791.220000\n",
       "1       AA143732        12970.960000\n",
       "2       AA205029        17882.800000\n",
       "3       AA445608        29100.040000\n",
       "4       AA600175        25446.950000\n",
       "...          ...                 ...\n",
       "9993    ZZ650387        69510.400592\n",
       "9994    ZZ708333        47975.439268\n",
       "9995    ZZ882011        21599.420000\n",
       "9996    ZZ926625        37181.657944\n",
       "9997    ZZ961364        35224.845296\n",
       "\n",
       "[9998 rows x 2 columns]"
      ]
     },
     "execution_count": 31,
     "metadata": {},
     "output_type": "execute_result"
    }
   ],
   "source": [
    "df2 = df.groupby('Customer ID')\n",
    "df3 = df2['Transaction_Amount'].sum().reset_index()\n",
    "df3"
   ]
  },
  {
   "cell_type": "code",
   "execution_count": 32,
   "metadata": {},
   "outputs": [],
   "source": [
    "\n",
    "to_remove_cutomer_lst = df3[df3[\"Transaction_Amount\"]==0]['Customer ID'].tolist()\n",
    "df = df[(~df['Customer ID'].isin(to_remove_cutomer_lst)) & (df['Customer ID'].notnull())] # & (df['Transaction_Amount'].notnull())] -- removed it bcz a user can have another row with some amount transaction"
   ]
  },
  {
   "cell_type": "code",
   "execution_count": 33,
   "metadata": {},
   "outputs": [
    {
     "name": "stdout",
     "output_type": "stream",
     "text": [
      "<class 'pandas.core.frame.DataFrame'>\n",
      "Index: 190400 entries, 0 to 199999\n",
      "Data columns (total 8 columns):\n",
      " #   Column              Non-Null Count   Dtype  \n",
      "---  ------              --------------   -----  \n",
      " 0   Customer ID         190400 non-null  object \n",
      " 1   Email Active        183365 non-null  float64\n",
      " 2   Mobile Active       183942 non-null  float64\n",
      " 3   City                186017 non-null  object \n",
      " 4   Time Spent          184489 non-null  object \n",
      " 5   Transaction_Amount  140370 non-null  float64\n",
      " 6   Product Code        182004 non-null  object \n",
      " 7   Date                190400 non-null  object \n",
      "dtypes: float64(3), object(5)\n",
      "memory usage: 13.1+ MB\n"
     ]
    }
   ],
   "source": [
    "df.info()"
   ]
  },
  {
   "cell_type": "markdown",
   "metadata": {},
   "source": [
    "# Removing Outliers"
   ]
  },
  {
   "cell_type": "code",
   "execution_count": 34,
   "metadata": {},
   "outputs": [
    {
     "data": {
      "text/plain": [
       "38933.07324039676"
      ]
     },
     "execution_count": 34,
     "metadata": {},
     "output_type": "execute_result"
    }
   ],
   "source": [
    "df['Transaction_Amount'].quantile(1)"
   ]
  },
  {
   "cell_type": "code",
   "execution_count": 36,
   "metadata": {},
   "outputs": [
    {
     "data": {
      "text/plain": [
       "Customer ID           190400\n",
       "Email Active          183365\n",
       "Mobile Active         183942\n",
       "City                  186017\n",
       "Time Spent            184489\n",
       "Transaction_Amount    140370\n",
       "Product Code          182004\n",
       "Date                  190400\n",
       "dtype: int64"
      ]
     },
     "execution_count": 36,
     "metadata": {},
     "output_type": "execute_result"
    }
   ],
   "source": [
    "df.count()"
   ]
  },
  {
   "cell_type": "code",
   "execution_count": 37,
   "metadata": {},
   "outputs": [
    {
     "name": "stdout",
     "output_type": "stream",
     "text": [
      "79.17 4254.7525000000005\n",
      "-4096.4125 8430.335000000001\n"
     ]
    },
    {
     "data": {
      "text/html": [
       "<div>\n",
       "<style scoped>\n",
       "    .dataframe tbody tr th:only-of-type {\n",
       "        vertical-align: middle;\n",
       "    }\n",
       "\n",
       "    .dataframe tbody tr th {\n",
       "        vertical-align: top;\n",
       "    }\n",
       "\n",
       "    .dataframe thead th {\n",
       "        text-align: right;\n",
       "    }\n",
       "</style>\n",
       "<table border=\"1\" class=\"dataframe\">\n",
       "  <thead>\n",
       "    <tr style=\"text-align: right;\">\n",
       "      <th></th>\n",
       "      <th>Customer ID</th>\n",
       "      <th>Email Active</th>\n",
       "      <th>Mobile Active</th>\n",
       "      <th>City</th>\n",
       "      <th>Time Spent</th>\n",
       "      <th>Transaction_Amount</th>\n",
       "      <th>Product Code</th>\n",
       "      <th>Date</th>\n",
       "    </tr>\n",
       "  </thead>\n",
       "  <tbody>\n",
       "    <tr>\n",
       "      <th>0</th>\n",
       "      <td>SF282694</td>\n",
       "      <td>1.0</td>\n",
       "      <td>0.0</td>\n",
       "      <td>Dakar</td>\n",
       "      <td>06:22:00</td>\n",
       "      <td>43.71</td>\n",
       "      <td>['CUAR6713', 'QKOT2844', 'XAXZ3838', 'OQEC0645...</td>\n",
       "      <td>2024-03-08</td>\n",
       "    </tr>\n",
       "    <tr>\n",
       "      <th>1</th>\n",
       "      <td>TE728273</td>\n",
       "      <td>0.0</td>\n",
       "      <td>0.0</td>\n",
       "      <td>Ouled Moussa</td>\n",
       "      <td>21:39:38</td>\n",
       "      <td>466.27</td>\n",
       "      <td>['WEMH5650', 'QKJY7652', 'SGIQ3300', 'ADJY3664...</td>\n",
       "      <td>2024-02-05</td>\n",
       "    </tr>\n",
       "    <tr>\n",
       "      <th>2</th>\n",
       "      <td>MS023187</td>\n",
       "      <td>1.0</td>\n",
       "      <td>1.0</td>\n",
       "      <td>Tacámbaro de Codallos</td>\n",
       "      <td>22:10:35</td>\n",
       "      <td>6916.92</td>\n",
       "      <td>['DAUY5260', 'XTYP8097', 'ZOQS0126', 'WXSG1545...</td>\n",
       "      <td>2024-03-16</td>\n",
       "    </tr>\n",
       "    <tr>\n",
       "      <th>3</th>\n",
       "      <td>ET367185</td>\n",
       "      <td>1.0</td>\n",
       "      <td>0.0</td>\n",
       "      <td>Wanze</td>\n",
       "      <td>06:33:51</td>\n",
       "      <td>NaN</td>\n",
       "      <td>['TXQG5693', 'LTPN2981', 'ONFN7108', 'BNAA2857...</td>\n",
       "      <td>2024-02-08</td>\n",
       "    </tr>\n",
       "    <tr>\n",
       "      <th>4</th>\n",
       "      <td>JG458278</td>\n",
       "      <td>0.0</td>\n",
       "      <td>0.0</td>\n",
       "      <td>Xihue-Xique</td>\n",
       "      <td>17:49:45</td>\n",
       "      <td>6647.11</td>\n",
       "      <td>[]</td>\n",
       "      <td>2024-02-08</td>\n",
       "    </tr>\n",
       "    <tr>\n",
       "      <th>...</th>\n",
       "      <td>...</td>\n",
       "      <td>...</td>\n",
       "      <td>...</td>\n",
       "      <td>...</td>\n",
       "      <td>...</td>\n",
       "      <td>...</td>\n",
       "      <td>...</td>\n",
       "      <td>...</td>\n",
       "    </tr>\n",
       "    <tr>\n",
       "      <th>199995</th>\n",
       "      <td>HQ974646</td>\n",
       "      <td>0.0</td>\n",
       "      <td>1.0</td>\n",
       "      <td>Vierzon</td>\n",
       "      <td>17:35:16</td>\n",
       "      <td>2011.85</td>\n",
       "      <td>['GLQX4238', 'HLPN8296', 'DVPT9828', 'CWNX2320...</td>\n",
       "      <td>2024-05-31</td>\n",
       "    </tr>\n",
       "    <tr>\n",
       "      <th>199996</th>\n",
       "      <td>LP668576</td>\n",
       "      <td>1.0</td>\n",
       "      <td>1.0</td>\n",
       "      <td>Hucclecote</td>\n",
       "      <td>08:29:56</td>\n",
       "      <td>7210.63</td>\n",
       "      <td>[]</td>\n",
       "      <td>2024-06-15</td>\n",
       "    </tr>\n",
       "    <tr>\n",
       "      <th>199997</th>\n",
       "      <td>BG394075</td>\n",
       "      <td>1.0</td>\n",
       "      <td>0.0</td>\n",
       "      <td>Struga</td>\n",
       "      <td>17:35:14</td>\n",
       "      <td>NaN</td>\n",
       "      <td>['RRDR6447', 'CEEO7453']</td>\n",
       "      <td>2024-04-11</td>\n",
       "    </tr>\n",
       "    <tr>\n",
       "      <th>199998</th>\n",
       "      <td>VR528159</td>\n",
       "      <td>0.0</td>\n",
       "      <td>1.0</td>\n",
       "      <td>NagXa</td>\n",
       "      <td>10:39:46</td>\n",
       "      <td>43.14</td>\n",
       "      <td>['FZAX9549', 'BWSX1001']</td>\n",
       "      <td>2024-02-14</td>\n",
       "    </tr>\n",
       "    <tr>\n",
       "      <th>199999</th>\n",
       "      <td>AU099511</td>\n",
       "      <td>1.0</td>\n",
       "      <td>0.0</td>\n",
       "      <td>Kataha</td>\n",
       "      <td>12:16:42</td>\n",
       "      <td>96.45</td>\n",
       "      <td>['QGQC0495', 'YUHI1623', 'ZENL5241', 'NXON2002...</td>\n",
       "      <td>2024-06-06</td>\n",
       "    </tr>\n",
       "  </tbody>\n",
       "</table>\n",
       "<p>190400 rows × 8 columns</p>\n",
       "</div>"
      ],
      "text/plain": [
       "       Customer ID  Email Active  Mobile Active                   City  \\\n",
       "0         SF282694           1.0            0.0                  Dakar   \n",
       "1         TE728273           0.0            0.0           Ouled Moussa   \n",
       "2         MS023187           1.0            1.0  Tacámbaro de Codallos   \n",
       "3         ET367185           1.0            0.0                  Wanze   \n",
       "4         JG458278           0.0            0.0            Xihue-Xique   \n",
       "...            ...           ...            ...                    ...   \n",
       "199995    HQ974646           0.0            1.0                Vierzon   \n",
       "199996    LP668576           1.0            1.0             Hucclecote   \n",
       "199997    BG394075           1.0            0.0                 Struga   \n",
       "199998    VR528159           0.0            1.0                  NagXa   \n",
       "199999    AU099511           1.0            0.0                 Kataha   \n",
       "\n",
       "       Time Spent  Transaction_Amount  \\\n",
       "0        06:22:00               43.71   \n",
       "1        21:39:38              466.27   \n",
       "2        22:10:35             6916.92   \n",
       "3        06:33:51                 NaN   \n",
       "4        17:49:45             6647.11   \n",
       "...           ...                 ...   \n",
       "199995   17:35:16             2011.85   \n",
       "199996   08:29:56             7210.63   \n",
       "199997   17:35:14                 NaN   \n",
       "199998   10:39:46               43.14   \n",
       "199999   12:16:42               96.45   \n",
       "\n",
       "                                             Product Code        Date  \n",
       "0       ['CUAR6713', 'QKOT2844', 'XAXZ3838', 'OQEC0645...  2024-03-08  \n",
       "1       ['WEMH5650', 'QKJY7652', 'SGIQ3300', 'ADJY3664...  2024-02-05  \n",
       "2       ['DAUY5260', 'XTYP8097', 'ZOQS0126', 'WXSG1545...  2024-03-16  \n",
       "3       ['TXQG5693', 'LTPN2981', 'ONFN7108', 'BNAA2857...  2024-02-08  \n",
       "4                                                      []  2024-02-08  \n",
       "...                                                   ...         ...  \n",
       "199995  ['GLQX4238', 'HLPN8296', 'DVPT9828', 'CWNX2320...  2024-05-31  \n",
       "199996                                                 []  2024-06-15  \n",
       "199997                           ['RRDR6447', 'CEEO7453']  2024-04-11  \n",
       "199998                           ['FZAX9549', 'BWSX1001']  2024-02-14  \n",
       "199999  ['QGQC0495', 'YUHI1623', 'ZENL5241', 'NXON2002...  2024-06-06  \n",
       "\n",
       "[190400 rows x 8 columns]"
      ]
     },
     "execution_count": 37,
     "metadata": {},
     "output_type": "execute_result"
    }
   ],
   "source": [
    "def remove_outliers(df, column):\n",
    "    Q1 = df[column].quantile(0.25)\n",
    "    Q3 = df[column].quantile(0.75)\n",
    "    print(Q1,Q3)\n",
    "    IQR = Q3 - Q1\n",
    "    lower_bound = Q1 - 1 * IQR\n",
    "    upper_bound = Q3 + 1 * IQR\n",
    "    print(lower_bound,upper_bound)\n",
    "    return df[~((df[column] < lower_bound) & (df[column] > upper_bound))]\n",
    "\n",
    "df2 = remove_outliers(df,'Transaction_Amount')\n",
    "df2\n"
   ]
  },
  {
   "cell_type": "markdown",
   "metadata": {},
   "source": [
    "# Scaling \n",
    "not needed for now"
   ]
  },
  {
   "cell_type": "markdown",
   "metadata": {},
   "source": [
    "# EDA"
   ]
  },
  {
   "cell_type": "markdown",
   "metadata": {},
   "source": [
    "Visualising Outliers"
   ]
  },
  {
   "cell_type": "code",
   "execution_count": 39,
   "metadata": {},
   "outputs": [
    {
     "data": {
      "text/plain": [
       "<Axes: ylabel='Transaction_Amount'>"
      ]
     },
     "execution_count": 39,
     "metadata": {},
     "output_type": "execute_result"
    },
    {
     "data": {
      "image/png": "[encoded data removed]",
      "text/plain": [
       "<Figure size 640x480 with 1 Axes>"
      ]
     },
     "metadata": {},
     "output_type": "display_data"
    }
   ],
   "source": [
    "import seaborn as sns\n",
    "sns.boxplot(df['Transaction_Amount'],width=0.8)\n"
   ]
  },
  {
   "cell_type": "code",
   "execution_count": 42,
   "metadata": {},
   "outputs": [
    {
     "data": {
      "image/png": "[encoded data removed]",
      "text/plain": [
       "<Figure size 1000x600 with 1 Axes>"
      ]
     },
     "metadata": {},
     "output_type": "display_data"
    }
   ],
   "source": [
    "import seaborn as sns\n",
    "import matplotlib.pyplot as plt\n",
    "import pandas as pd\n",
    "import numpy as np\n",
    "\n",
    "# Create sample data\n",
    "np.random.seed(0)\n",
    "data = pd.DataFrame({\n",
    "    'group': np.repeat(['A', 'B', 'C', 'D'], 50),\n",
    "    'value': np.random.randn(200)\n",
    "})\n",
    "\n",
    "# Set up the plot\n",
    "plt.figure(figsize=(10, 6))\n",
    "\n",
    "# Create boxplot\n",
    "# sns.boxplot(y=df['Transaction_Amount'], data=data, palette='Set3')\n",
    "\n",
    "# Add scatter points\n",
    "sns.stripplot(y=df['Transaction_Amount'], data=data, color='black', alpha=0.5, jitter=True)\n",
    "\n",
    "# Customize the plot\n",
    "plt.title('Boxplot with Scatter Points')\n",
    "plt.xlabel('Group')\n",
    "plt.ylabel('Value')\n",
    "\n",
    "# Show the plot\n",
    "plt.show()"
   ]
  },
  {
   "cell_type": "code",
   "execution_count": null,
   "metadata": {},
   "outputs": [],
   "source": []
  },
  {
   "cell_type": "code",
   "execution_count": null,
   "metadata": {},
   "outputs": [],
   "source": []
  },
  {
   "cell_type": "code",
   "execution_count": null,
   "metadata": {},
   "outputs": [],
   "source": []
  },
  {
   "cell_type": "code",
   "execution_count": null,
   "metadata": {},
   "outputs": [],
   "source": []
  },
  {
   "cell_type": "markdown",
   "metadata": {},
   "source": [
    "# CLTV CALCULATION\n"
   ]
  },
  {
   "cell_type": "code",
   "execution_count": null,
   "metadata": {},
   "outputs": [],
   "source": [
    "for i in "
   ]
  },
  {
   "cell_type": "code",
   "execution_count": 5,
   "metadata": {},
   "outputs": [],
   "source": [
    "useful_df['CLTV'] = "
   ]
  },
  {
   "cell_type": "code",
   "execution_count": null,
   "metadata": {},
   "outputs": [],
   "source": []
  }
 ],
 "metadata": {
  "kernelspec": {
   "display_name": "Python 3",
   "language": "python",
   "name": "python3"
  },
  "language_info": {
   "codemirror_mode": {
    "name": "ipython",
    "version": 3
   },
   "file_extension": ".py",
   "mimetype": "text/x-python",
   "name": "python",
   "nbconvert_exporter": "python",
   "pygments_lexer": "ipython3",
   "version": "3.12.4"
  }
 },
 "nbformat": 4,
 "nbformat_minor": 2
}
