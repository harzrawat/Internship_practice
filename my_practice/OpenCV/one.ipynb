{
 "cells": [
  {
   "cell_type": "code",
   "execution_count": 9,
   "metadata": {},
   "outputs": [],
   "source": [
    "import cv2\n",
    "\n",
    "img = cv2.imread('./assets/image1.webp',1)\n",
    "\n",
    "# -1,  cv2.IMREAD_COLOR :Loads a color image. Any transparency of image be negelected. This is default flag.\n",
    "#  0, cv2.IMREAD_GRAYSCALE : \n",
    "#  1, cv2.IMREAD_UNCHANGED : include alpha channels also\n",
    "\n",
    "cv2.imshow('Image',img)    # wait for infinite amount of time to waitfor keypress\n",
    "\n",
    "cv2.waitKey(0)   # wait infinite time for keypress before moving to next line\n",
    "cv2.destroyAllWindows()    # to destroy all window related after any activity"
   ]
  },
  {
   "cell_type": "markdown",
   "metadata": {},
   "source": [
    "# Resize the image"
   ]
  },
  {
   "cell_type": "code",
   "execution_count": 18,
   "metadata": {},
   "outputs": [],
   "source": [
    "import cv2\n",
    "\n",
    "img = cv2.imread('./assets/image1.webp',1)\n",
    "\n",
    "# resizing \n",
    "# img = cv2.resize(img,(400,400))    # manually decide dimensions\n",
    "img = cv2.resize(img,(0,0),fx=0.5,fy=0.5)     # dimentions as multiple of the original size\n",
    "\n",
    "cv2.imshow('Image',img)  \n",
    "\n",
    "cv2.waitKey(0)   \n",
    "cv2.destroyAllWindows()"
   ]
  },
  {
   "cell_type": "markdown",
   "metadata": {},
   "source": [
    "# Rotate image"
   ]
  },
  {
   "cell_type": "code",
   "execution_count": 23,
   "metadata": {},
   "outputs": [],
   "source": [
    "import cv2\n",
    "\n",
    "img = cv2.imread('./assets/image1.webp',1)\n",
    "\n",
    "# rotating\n",
    "img = cv2.rotate(img, cv2.ROTATE_90_COUNTERCLOCKWISE)\n",
    "\n",
    "# to save image\n",
    "cv2.imwrite('new_image.png',img)   # save the image at the defined path\n",
    "\n",
    "cv2.imshow('Image',img)  \n",
    "\n",
    "cv2.waitKey(0)   \n",
    "cv2.destroyAllWindows()"
   ]
  },
  {
   "cell_type": "code",
   "execution_count": null,
   "metadata": {},
   "outputs": [],
   "source": []
  }
 ],
 "metadata": {
  "kernelspec": {
   "display_name": "Python 3",
   "language": "python",
   "name": "python3"
  },
  "language_info": {
   "codemirror_mode": {
    "name": "ipython",
    "version": 3
   },
   "file_extension": ".py",
   "mimetype": "text/x-python",
   "name": "python",
   "nbconvert_exporter": "python",
   "pygments_lexer": "ipython3",
   "version": "3.12.3"
  }
 },
 "nbformat": 4,
 "nbformat_minor": 2
}
