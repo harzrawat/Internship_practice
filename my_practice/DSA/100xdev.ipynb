{
 "cells": [
  {
   "cell_type": "markdown",
   "metadata": {},
   "source": [
    "# P:1 Good Pairs"
   ]
  },
  {
   "cell_type": "markdown",
   "metadata": {},
   "source": [
    "Given an array of integers nums, return the number of good pairs.\n",
    "\n",
    "A pair (i, j) is called good if nums[i] == nums[j] and i < j."
   ]
  },
  {
   "cell_type": "markdown",
   "metadata": {},
   "source": [
    "Example 1:\n",
    "\n",
    "Input: nums = [1,2,3,1,1,3]\n",
    "\n",
    "Output: 4\n",
    "\n",
    "Explanation: There are 4 good pairs (0,3), (0,4), (3,4), (2,5) 0-indexed."
   ]
  },
  {
   "cell_type": "code",
   "execution_count": 5,
   "metadata": {},
   "outputs": [
    {
     "data": {
      "text/plain": [
       "6"
      ]
     },
     "execution_count": 5,
     "metadata": {},
     "output_type": "execute_result"
    }
   ],
   "source": [
    "def good_pairs(lst):\n",
    "    c=0\n",
    "    for i in range(len(lst)):\n",
    "        for j in range(i+1,len(lst)):\n",
    "            if lst[i]==lst[j]:\n",
    "                c+=1\n",
    "    return c\n",
    "\n",
    "nums = [1,2,3,1,1,3]\n",
    "nums = [1,1,1,1]\n",
    "good_pairs(nums)\n"
   ]
  },
  {
   "cell_type": "code",
   "execution_count": 2,
   "metadata": {},
   "outputs": [
    {
     "data": {
      "text/plain": [
       "6"
      ]
     },
     "execution_count": 2,
     "metadata": {},
     "output_type": "execute_result"
    }
   ],
   "source": [
    "# optimised code\n",
    "\n",
    "def good_pairs(nums):\n",
    "    c=0\n",
    "    lst1=[0]*(max(nums)+1)\n",
    "    for i in nums:\n",
    "        lst1[i]+=1\n",
    "        if lst1[i]-1!=0:\n",
    "            c+=(lst1[i]-1)\n",
    "            # print(c)\n",
    "    return c\n",
    "nums = [1,2,3,1,1,3]\n",
    "nums = [1,1,1,1]\n",
    "good_pairs(nums)\n",
    "\n",
    "\n",
    "    "
   ]
  },
  {
   "cell_type": "code",
   "execution_count": 7,
   "metadata": {},
   "outputs": [
    {
     "data": {
      "text/plain": [
       "[0, 0, 0]"
      ]
     },
     "execution_count": 7,
     "metadata": {},
     "output_type": "execute_result"
    }
   ],
   "source": [
    "lst1=[0]*3\n",
    "lst1"
   ]
  },
  {
   "cell_type": "code",
   "execution_count": null,
   "metadata": {},
   "outputs": [],
   "source": []
  },
  {
   "cell_type": "markdown",
   "metadata": {},
   "source": [
    "# Day 2: Topics"
   ]
  },
  {
   "cell_type": "markdown",
   "metadata": {},
   "source": [
    "1. Concept of prefix\n",
    "2. Problem: Highest altitude\n",
    "3.Frequency Arrays\n",
    "4. Proble,: Most frequent character\n",
    "5. Handling ranges\n",
    "6. Problem: Maximum platform needed\n",
    "7. A technique to approach problems\n",
    "8. Problems: Subarray aum divisible by k\n",
    "9. Sliding window \n",
    "10. Problem: Finding k beauty of a number "
   ]
  },
  {
   "cell_type": "markdown",
   "metadata": {},
   "source": [
    "Prefix Sum code"
   ]
  },
  {
   "cell_type": "code",
   "execution_count": 5,
   "metadata": {},
   "outputs": [
    {
     "data": {
      "text/plain": [
       "[10, 14, 20, 21, 26]"
      ]
     },
     "execution_count": 5,
     "metadata": {},
     "output_type": "execute_result"
    }
   ],
   "source": [
    "# Brute force/optimised\n",
    "def prefix_sum(lst):\n",
    "    lst2=[]\n",
    "    sm = lst[0]\n",
    "    for i in range(len(lst)-1):\n",
    "        sm=sm+lst[i+1]\n",
    "        lst2.append(sm)\n",
    "    return lst2\n",
    "\n",
    "prefix_sum([3,7,4,6,1,5])"
   ]
  },
  {
   "cell_type": "markdown",
   "metadata": {},
   "source": [
    "# 1732. Find the Highest Altitude\n",
    "\n",
    "There is a biker going on a road trip. The road trip consists of n + 1 points at different altitudes. The biker starts his trip on point 0 with altitude equal 0.\n",
    "\n",
    "You are given an integer array gain of length n where gain[i] is the net gain in altitude between points i​​​​​​ and i + 1 for all (0 <= i < n). Return the highest altitude of a point.\n",
    "\n",
    " \n",
    "\n",
    "Example 1:\n",
    "\n",
    "Input: gain = [-5,1,5,0,-7]\n",
    "\n",
    "Output: 1\n",
    "\n",
    "Explanation: The altitudes are [0,-5,-4,1,1,-6]. The highest is 1."
   ]
  },
  {
   "cell_type": "code",
   "execution_count": 8,
   "metadata": {},
   "outputs": [
    {
     "data": {
      "text/plain": [
       "1"
      ]
     },
     "execution_count": 8,
     "metadata": {},
     "output_type": "execute_result"
    }
   ],
   "source": [
    "# Brute force\n",
    "# logic : storing the altitude whenever it is greater than the stored value of altitude and rejecting when it is lower,\n",
    "# though continuously adding height to get the value of altitude each time to compare with\n",
    "def altitude(lst):\n",
    "    alt = 0           \n",
    "    ans = 0\n",
    "    for i in lst:   # O(n)\n",
    "        alt+=i\n",
    "        if alt>ans:\n",
    "            ans=alt\n",
    "    return ans\n",
    "\n",
    "# T(n) = O(n)\n",
    "\n",
    "altitude([-5,1,5,0,-7])\n"
   ]
  },
  {
   "cell_type": "code",
   "execution_count": 9,
   "metadata": {},
   "outputs": [
    {
     "data": {
      "text/plain": [
       "1"
      ]
     },
     "execution_count": 9,
     "metadata": {},
     "output_type": "execute_result"
    }
   ],
   "source": [
    "# solution 2\n",
    "def altitude(lst):\n",
    "    alt = [0]*(len(lst)+1)     # O(n)\n",
    "    for i in range(len(lst)):   # O(n)\n",
    "        alt[i+1]=alt[i]+lst[i]\n",
    "\n",
    "    return max(alt)            # O(n)\n",
    "\n",
    "# T(n) = O(n)  [ O(n)+O(n)+O(n) ]\n",
    "altitude([-5,1,5,0,-7])\n",
    "\n"
   ]
  },
  {
   "cell_type": "markdown",
   "metadata": {},
   "source": [
    "# Frequency Array"
   ]
  },
  {
   "cell_type": "code",
   "execution_count": null,
   "metadata": {},
   "outputs": [],
   "source": []
  }
 ],
 "metadata": {
  "kernelspec": {
   "display_name": "Python 3",
   "language": "python",
   "name": "python3"
  },
  "language_info": {
   "codemirror_mode": {
    "name": "ipython",
    "version": 3
   },
   "file_extension": ".py",
   "mimetype": "text/x-python",
   "name": "python",
   "nbconvert_exporter": "python",
   "pygments_lexer": "ipython3",
   "version": "3.12.4"
  }
 },
 "nbformat": 4,
 "nbformat_minor": 2
}
