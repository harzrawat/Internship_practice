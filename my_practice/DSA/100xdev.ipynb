{
 "cells": [
  {
   "cell_type": "markdown",
   "metadata": {},
   "source": [
    "# P:1 Good Pairs"
   ]
  },
  {
   "cell_type": "markdown",
   "metadata": {},
   "source": [
    "Given an array of integers nums, return the number of good pairs.\n",
    "\n",
    "A pair (i, j) is called good if nums[i] == nums[j] and i < j."
   ]
  },
  {
   "cell_type": "markdown",
   "metadata": {},
   "source": [
    "Example 1:\n",
    "\n",
    "Input: nums = [1,2,3,1,1,3]\n",
    "\n",
    "Output: 4\n",
    "\n",
    "Explanation: There are 4 good pairs (0,3), (0,4), (3,4), (2,5) 0-indexed."
   ]
  },
  {
   "cell_type": "code",
   "execution_count": 5,
   "metadata": {},
   "outputs": [
    {
     "data": {
      "text/plain": [
       "6"
      ]
     },
     "execution_count": 5,
     "metadata": {},
     "output_type": "execute_result"
    }
   ],
   "source": [
    "# Logic : matching the number with all the numbers ahead and counting when it matches\n",
    "\n",
    "def good_pairs(lst):\n",
    "    c=0\n",
    "    for i in range(len(lst)):\n",
    "        for j in range(i+1,len(lst)):\n",
    "            if lst[i]==lst[j]:\n",
    "                c+=1\n",
    "    return c\n",
    "# T(n) = O(n**2)   [0+1+2+......+n-1 = ((n-1)*n)/2]\n",
    "\n",
    "nums = [1,2,3,1,1,3]\n",
    "nums = [1,1,1,1]\n",
    "good_pairs(nums)\n"
   ]
  },
  {
   "cell_type": "code",
   "execution_count": 8,
   "metadata": {},
   "outputs": [
    {
     "data": {
      "text/plain": [
       "4"
      ]
     },
     "execution_count": 8,
     "metadata": {},
     "output_type": "execute_result"
    }
   ],
   "source": [
    "# optimised code\n",
    "# Logic : storing the freq of numbers in a lst and whenever it is increased after 1,\n",
    "# we add the previous values freq to that constant value which is calculating the \n",
    "\n",
    "def good_pairs(nums):\n",
    "    c=0\n",
    "    lst1=[0]*(max(nums)+1)\n",
    "    for i in nums:\n",
    "        lst1[i]+=1\n",
    "        # print(lst1)\n",
    "        # print(i)\n",
    "        if lst1[i]-1!=0:\n",
    "            c+=(lst1[i]-1)\n",
    "            # print(c)\n",
    "    return c\n",
    "nums = [1,2,3,1,1,3]\n",
    "# nums = [1,1,1,1]\n",
    "good_pairs(nums)\n",
    "\n",
    "\n",
    "    "
   ]
  },
  {
   "cell_type": "code",
   "execution_count": 7,
   "metadata": {},
   "outputs": [
    {
     "data": {
      "text/plain": [
       "[0, 0, 0]"
      ]
     },
     "execution_count": 7,
     "metadata": {},
     "output_type": "execute_result"
    }
   ],
   "source": [
    "lst1=[0]*3\n",
    "lst1"
   ]
  },
  {
   "cell_type": "code",
   "execution_count": null,
   "metadata": {},
   "outputs": [],
   "source": []
  },
  {
   "cell_type": "markdown",
   "metadata": {},
   "source": [
    "# Day 2: Topics"
   ]
  },
  {
   "cell_type": "markdown",
   "metadata": {},
   "source": [
    "1. Concept of prefix\n",
    "2. Problem: Highest altitude\n",
    "3.Frequency Arrays\n",
    "4. Proble,: Most frequent character\n",
    "5. Handling ranges\n",
    "6. Problem: Maximum platform needed\n",
    "7. A technique to approach problems\n",
    "8. Problems: Subarray aum divisible by k\n",
    "9. Sliding window \n",
    "10. Problem: Finding k beauty of a number "
   ]
  },
  {
   "cell_type": "markdown",
   "metadata": {},
   "source": [
    "Prefix Sum code"
   ]
  },
  {
   "cell_type": "code",
   "execution_count": 5,
   "metadata": {},
   "outputs": [
    {
     "data": {
      "text/plain": [
       "[10, 14, 20, 21, 26]"
      ]
     },
     "execution_count": 5,
     "metadata": {},
     "output_type": "execute_result"
    }
   ],
   "source": [
    "# Brute force/optimised\n",
    "def prefix_sum(lst):\n",
    "    lst2=[]\n",
    "    sm = lst[0]\n",
    "    for i in range(len(lst)-1):\n",
    "        sm=sm+lst[i+1]\n",
    "        lst2.append(sm)\n",
    "    return lst2\n",
    "\n",
    "prefix_sum([3,7,4,6,1,5])"
   ]
  },
  {
   "cell_type": "markdown",
   "metadata": {},
   "source": [
    "# 1732. Find the Highest Altitude\n",
    "\n",
    "There is a biker going on a road trip. The road trip consists of n + 1 points at different altitudes. The biker starts his trip on point 0 with altitude equal 0.\n",
    "\n",
    "You are given an integer array gain of length n where gain[i] is the net gain in altitude between points i​​​​​​ and i + 1 for all (0 <= i < n). Return the highest altitude of a point.\n",
    "\n",
    " \n",
    "\n",
    "Example 1:\n",
    "\n",
    "Input: gain = [-5,1,5,0,-7]\n",
    "\n",
    "Output: 1\n",
    "\n",
    "Explanation: The altitudes are [0,-5,-4,1,1,-6]. The highest is 1."
   ]
  },
  {
   "cell_type": "code",
   "execution_count": 8,
   "metadata": {},
   "outputs": [
    {
     "data": {
      "text/plain": [
       "1"
      ]
     },
     "execution_count": 8,
     "metadata": {},
     "output_type": "execute_result"
    }
   ],
   "source": [
    "# Brute force\n",
    "# logic : storing the altitude whenever it is greater than the stored value of altitude and rejecting when it is lower,\n",
    "# though continuously adding height to get the value of altitude each time to compare with\n",
    "def altitude(lst):\n",
    "    alt = 0           \n",
    "    ans = 0\n",
    "    for i in lst:   # O(n)\n",
    "        alt+=i\n",
    "        if alt>ans:\n",
    "            ans=alt\n",
    "    return ans\n",
    "\n",
    "# T(n) = O(n)\n",
    "\n",
    "altitude([-5,1,5,0,-7])\n"
   ]
  },
  {
   "cell_type": "code",
   "execution_count": 9,
   "metadata": {},
   "outputs": [
    {
     "data": {
      "text/plain": [
       "1"
      ]
     },
     "execution_count": 9,
     "metadata": {},
     "output_type": "execute_result"
    }
   ],
   "source": [
    "# solution 2\n",
    "# Logic : making list of alttudes & getting max out of them\n",
    "def altitude(lst):\n",
    "    alt = [0]*(len(lst)+1)     # O(n)\n",
    "    for i in range(len(lst)):   # O(n)\n",
    "        alt[i+1]=alt[i]+lst[i]\n",
    "\n",
    "    return max(alt)            # O(n)\n",
    "\n",
    "# T(n) = O(n)  [ O(n)+O(n)+O(n) ]\n",
    "altitude([-5,1,5,0,-7])\n",
    "\n"
   ]
  },
  {
   "cell_type": "markdown",
   "metadata": {},
   "source": [
    "# Frequency Array"
   ]
  },
  {
   "cell_type": "markdown",
   "metadata": {},
   "source": [
    "array or list telling frequecy at an index of a list, whose index are mapped as value of other array.\n",
    "\n",
    "Eg. [1,2,1,1,3,2] --> freq array: [0,3,2,1]  ( length of freq array = max(input_array/lst)+1 )\n",
    "\n",
    "we start with array having all values as ZERO."
   ]
  },
  {
   "cell_type": "code",
   "execution_count": 2,
   "metadata": {},
   "outputs": [
    {
     "data": {
      "text/plain": [
       "[0, 3, 2, 1]"
      ]
     },
     "execution_count": 2,
     "metadata": {},
     "output_type": "execute_result"
    }
   ],
   "source": [
    "# CODE for frequency array\n",
    "# only valid till array limit ( as you can't have any length if the input lst happens to have a very large value)\n",
    "\n",
    "def func(lst):\n",
    "    freq_array = [0]*(max(lst)+1)\n",
    "    for i in lst:\n",
    "        freq_array[i]+=1\n",
    "    return freq_array\n",
    "\n",
    "func([1,2,1,1,3,2])"
   ]
  },
  {
   "cell_type": "markdown",
   "metadata": {},
   "source": [
    "# Problem:\n",
    "Most frequent character"
   ]
  },
  {
   "cell_type": "code",
   "execution_count": 16,
   "metadata": {},
   "outputs": [
    {
     "data": {
      "text/plain": [
       "97"
      ]
     },
     "execution_count": 16,
     "metadata": {},
     "output_type": "execute_result"
    }
   ],
   "source": [
    "ord('a')  # gives "
   ]
  },
  {
   "cell_type": "code",
   "execution_count": 17,
   "metadata": {},
   "outputs": [
    {
     "data": {
      "text/plain": [
       "'b'"
      ]
     },
     "execution_count": 17,
     "metadata": {},
     "output_type": "execute_result"
    }
   ],
   "source": [
    "chr(98)"
   ]
  },
  {
   "cell_type": "code",
   "execution_count": 31,
   "metadata": {},
   "outputs": [
    {
     "data": {
      "text/plain": [
       "65"
      ]
     },
     "execution_count": 31,
     "metadata": {},
     "output_type": "execute_result"
    }
   ],
   "source": [
    "ord('A')"
   ]
  },
  {
   "cell_type": "code",
   "execution_count": 15,
   "metadata": {},
   "outputs": [
    {
     "data": {
      "text/plain": [
       "1"
      ]
     },
     "execution_count": 15,
     "metadata": {},
     "output_type": "execute_result"
    }
   ],
   "source": [
    "ord('b')-ord('a')"
   ]
  },
  {
   "cell_type": "markdown",
   "metadata": {},
   "source": [
    "Valid for both upper & lower cases"
   ]
  },
  {
   "cell_type": "code",
   "execution_count": 29,
   "metadata": {},
   "outputs": [
    {
     "data": {
      "text/plain": [
       "'l'"
      ]
     },
     "execution_count": 29,
     "metadata": {},
     "output_type": "execute_result"
    }
   ],
   "source": [
    "# Logic : use ascii value of char and assocate them with numbers then use freq array\n",
    "\n",
    "def func(str1):\n",
    "    lst1 = [0]*len(str1)        # O(n)\n",
    "    for i in range(len(str1)):   # O(n)\n",
    "        lst1[i] = ord(str1[i]) - ord('a')\n",
    "\n",
    "    # print(lst1)\n",
    "    freq_array = [0]*(max(lst1)+1)     # O(m)\n",
    "    for i in lst1:              # O(n)\n",
    "        freq_array[i]+=1\n",
    "    # print((freq_array))\n",
    "    return chr(ord('a')+freq_array.index(max(freq_array)))\n",
    "\n",
    "# T(n) = 3*O(n) + O(m) = O(m+n)\n",
    "\n",
    "str1= \"hello\"\n",
    "func(str1)\n"
   ]
  },
  {
   "cell_type": "markdown",
   "metadata": {},
   "source": [
    "# Handling ranges : Prefix sum + frequency array"
   ]
  },
  {
   "cell_type": "code",
   "execution_count": null,
   "metadata": {},
   "outputs": [],
   "source": []
  },
  {
   "cell_type": "code",
   "execution_count": null,
   "metadata": {},
   "outputs": [],
   "source": []
  },
  {
   "cell_type": "markdown",
   "metadata": {},
   "source": [
    "# 1854. Maximum Population Year\n",
    "\n",
    "You are given a 2D integer array logs where each logs[ i ] = [ birthi, deathi ] indicates the birth and death years of the ith person.\n",
    "\n",
    "The population of some year x is the number of people alive during that year. The ith person is counted in year x's population if x is in the inclusive range [birthi, deathi - 1]. Note that the person is not counted in the year that they die.\n",
    "\n",
    "Return the earliest year with the maximum population.\n",
    "\n",
    "Input: logs = [[1950,1961],[1960,1971],[1970,1981]] \n",
    "\n",
    "Output: 1960\n",
    "\n",
    "Explanation: \n",
    "The maximum population is 2, and it had happened in years 1960 and 1970.\n",
    "The earlier year between them is 1960."
   ]
  },
  {
   "cell_type": "code",
   "execution_count": 44,
   "metadata": {},
   "outputs": [
    {
     "data": {
      "text/plain": [
       "[1960, 1970]"
      ]
     },
     "execution_count": 44,
     "metadata": {},
     "output_type": "execute_result"
    }
   ],
   "source": [
    "def func(lst):\n",
    "    maxd=0\n",
    "    minb=0\n",
    "    for i in lst:                # O(n)\n",
    "        if maxd<i[1]:\n",
    "            maxd = i[1]\n",
    "        if minb>i[0]:\n",
    "            minb=i[0]\n",
    "    count2=0\n",
    "    yr=[minb]\n",
    "    for i in range(minb,maxd):     # O(n*m)\n",
    "        c=0\n",
    "        for j in lst:\n",
    "            if i>=j[0] and i<j[1]:\n",
    "                c+=1\n",
    "        if count2<c:\n",
    "            count2=c\n",
    "            yr=[i]\n",
    "        elif count2==c:\n",
    "            yr.append(i)\n",
    "\n",
    "    return yr\n",
    "\n",
    "\n",
    "# T(n) = O(n*m)\n",
    "logs = [[1950,1961],[1960,1971],[1970,1981]] \n",
    "func(logs)"
   ]
  },
  {
   "cell_type": "code",
   "execution_count": 38,
   "metadata": {},
   "outputs": [
    {
     "data": {
      "text/plain": [
       "[1960, 1970]"
      ]
     },
     "execution_count": 38,
     "metadata": {},
     "output_type": "execute_result"
    }
   ],
   "source": [
    "# Brute force with little optimisation\n",
    "# Brute force : making an array from 0 to last year of death and\n",
    "# then making a common frequency array for all the year in the range of birth and death of each person.\n",
    "def func(lst):\n",
    "    maxd=0\n",
    "    minb=0\n",
    "    for i in lst:                # O(n)\n",
    "        if maxd<i[1]:\n",
    "            maxd = i[1]\n",
    "        if minb>i[0]:\n",
    "            minb=i[0]\n",
    "            \n",
    "    freq_lst = [0]*(maxd-minb+2)                # just reduced the list size\n",
    "    for i in lst:                  # O(n*m)\n",
    "        p = list(range(i[0],i[1]))\n",
    "        for i in p:\n",
    "            freq_lst[i]+=1\n",
    "    # print(freq_lst)\n",
    "    a = [index for index,value in enumerate(freq_lst) if value==max(freq_lst)]    # 2*O(n)\n",
    "    return a\n",
    "\n",
    "logs = [[1950,1961],[1960,1971],[1970,1981]] \n",
    "func(logs)"
   ]
  },
  {
   "cell_type": "markdown",
   "metadata": {},
   "source": [
    "# Optimised Soln."
   ]
  },
  {
   "cell_type": "code",
   "execution_count": 76,
   "metadata": {},
   "outputs": [
    {
     "data": {
      "text/plain": [
       "[1960, 1970]"
      ]
     },
     "execution_count": 76,
     "metadata": {},
     "output_type": "execute_result"
    }
   ],
   "source": [
    "# whenever a person is born we add 1 to the population & when dies we subtract 1 from population, thus making a gain array of having index as year\n",
    "\n",
    "def func(lst):\n",
    "    maxd=lst[0][0]\n",
    "    minb=lst[0][0]\n",
    "    for i in lst:                # O(n)\n",
    "        if maxd<i[1]:\n",
    "            maxd = i[1]\n",
    "        if minb>i[0]:\n",
    "            minb=i[0]\n",
    "            \n",
    "    # print(minb,maxd)\n",
    "    gain_lst = [0]*(maxd-minb+1+1)\n",
    "    for i in lst:\n",
    "        gain_lst[i[0]-minb]+=1\n",
    "        gain_lst[i[1]-minb]-=1\n",
    "    \n",
    "    pop_lst = [0]*(maxd-minb+2+1)\n",
    "    # print(gain_lst)\n",
    "    for i in range(len(gain_lst)):\n",
    "        pop_lst[i+1] = pop_lst[i]+gain_lst[i]\n",
    "        \n",
    "    # print(pop_lst)\n",
    "    index = [index+minb-1 for index ,value in enumerate(pop_lst) if value==max(pop_lst)]   # here - 1 bcz gained population is shifted right by 1\n",
    "    \n",
    "    return index\n",
    "\n",
    "\n",
    "logs = [[1950,1961],[1960,1971],[1970,1981]] \n",
    "func(logs)\n",
    "\n",
    "    "
   ]
  },
  {
   "cell_type": "markdown",
   "metadata": {},
   "source": [
    "# Problem\n",
    "Minimum Number of Platforms Required for a Railway/Bus Station\n",
    "\n",
    "We are given two arrays that represent the arrival and departure times of trains, the task is to find the minimum number of platforms required so that no train waits.\n",
    "\n",
    "Examples: \n",
    "\n",
    "Input: arr[] = {9:00, 9:40, 9:50, 11:00, 15:00, 18:00}, dep[] = {9:10, 12:00, 11:20, 11:30, 19:00, 20:00} \n",
    "Output: 3 \n",
    "Explanation: There are at-most three trains at a time (time between 9:40 to 12:00)\n",
    "\n",
    "Input: arr[] = {9:00, 9:40}, dep[] = {9:10, 12:00} \n",
    "Output: 1 \n",
    "Explanation: Only one platform is needed."
   ]
  },
  {
   "cell_type": "code",
   "execution_count": 80,
   "metadata": {},
   "outputs": [
    {
     "data": {
      "text/plain": [
       "3"
      ]
     },
     "execution_count": 80,
     "metadata": {},
     "output_type": "execute_result"
    }
   ],
   "source": [
    "def func(arr,dep):\n",
    "\n",
    "    gain_lst = [0]*2425     # can reduce length also depending upon max and min time \n",
    "    for i in arr:\n",
    "        i=i.replace(\":\",\"\")\n",
    "        i=int(i)\n",
    "        gain_lst[i]+=1\n",
    "    for i in dep:\n",
    "        i=i.replace(\":\",\"\")\n",
    "        i=int(i)\n",
    "        gain_lst[i]-=1\n",
    "    num_lst = [0]*2426\n",
    "    for i in range(len(gain_lst)):\n",
    "        num_lst[i+1] = num_lst[i]+gain_lst[i]\n",
    "    \n",
    "    return max(num_lst)\n",
    "\n",
    "arr = ['9:00', '9:40', '9:50', '11:00', '15:00','18:00']\n",
    "dep = ['9:10', '12:00', '11:20', '11:30', '19:00', '20:00']     \n",
    "func(arr,dep)\n"
   ]
  },
  {
   "cell_type": "markdown",
   "metadata": {},
   "source": [
    "# Day 3"
   ]
  },
  {
   "cell_type": "markdown",
   "metadata": {},
   "source": [
    "# Overall Plan\n",
    "Day 1: Complexity Analysis\n",
    "\n",
    "Day 2: Arrays Continued - Sliding Window + Problems\n",
    "\n",
    "Day 3: Recursion\n",
    "\n",
    "Day 4: Binary Search - Part 1\n",
    "\n",
    "Day 5: Binary Search - Part 2\n",
    "\n",
    "Day 6: Linked Lists\n",
    "\n",
    "Day 7: Stacks\n",
    "\n",
    "Day 8: Queues\n",
    "\n",
    "Day 9: Heaps\n",
    "\n",
    "Day 10: Maps + Sets\n",
    "\n",
    "Day 11: Doubt Clearing + Problem Solving\n",
    "\n",
    "Day 12: Trees - 1 (Binary Trees - Beginner problems)\n",
    "\n",
    "Day 13: Trees - 2 (Binary Trees - Intermediate to advanced problems)\n",
    "\n",
    "Day 14: Trees - 3 (N-ary trees)\n",
    "\n",
    "Day 15: DP - 1 (Beginner problems)\n",
    "\n",
    "Day 16: DP - 2 (Intermediate problems)\n",
    "\n",
    "Day 17: DP - 3 (Intermediate problems + Advanced problems + Optimisations)\n",
    "\n",
    "Day 18: Doubt Clearing + Problem Solving\n",
    "\n",
    "Day 19: Disjoint Set Union\n",
    "\n",
    "Day 20: Tries\n",
    "\n",
    "Day 21: Graphs - 1 (BFS + DFS + Problems)\n",
    "\n",
    "Day 22: Graphs - 2 (MST + Dijkstra + FW + Problems)\n",
    "\n",
    "Day 23: Graphs - 3 (Directed Graphs + Toplogical Sorting + SCC + Problems)\n",
    "\n",
    "Day 24: Doubt Clearing + Problem Solving\n",
    "\n",
    "Day 26: Articulation Points + Bridges in Graphs\n",
    "\n",
    "Day 28: Advanced problems in Graphs (Graph DP + general advanced problems)\n",
    "\n",
    "Day 29 - 32: Other advances concepts (Tree dp, Range queries DS, Dp optimisations) + Problem solving + Doubt clearing (Buffer period)"
   ]
  },
  {
   "cell_type": "code",
   "execution_count": null,
   "metadata": {},
   "outputs": [],
   "source": []
  }
 ],
 "metadata": {
  "kernelspec": {
   "display_name": "Python 3",
   "language": "python",
   "name": "python3"
  },
  "language_info": {
   "codemirror_mode": {
    "name": "ipython",
    "version": 3
   },
   "file_extension": ".py",
   "mimetype": "text/x-python",
   "name": "python",
   "nbconvert_exporter": "python",
   "pygments_lexer": "ipython3",
   "version": "3.12.4"
  }
 },
 "nbformat": 4,
 "nbformat_minor": 2
}
