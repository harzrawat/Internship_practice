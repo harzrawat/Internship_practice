{
 "cells": [
  {
   "cell_type": "code",
   "execution_count": null,
   "metadata": {},
   "outputs": [],
   "source": [
    "# Python3 program to implement direct index \n",
    "# mapping with negative values allowed.\n",
    "\n",
    "# Searching if X is Present in the \n",
    "# given array or not.\n",
    "def search(X):\n",
    "\n",
    "\tif X >= 0:\n",
    "\t\treturn has[X][0] == 1\n",
    "\n",
    "\t# if X is negative take the absolute\n",
    "\t# value of X.\n",
    "\tX = abs(X)\n",
    "\treturn has[X][1] == 1\n",
    "\n",
    "def insert(a, n):\n",
    "\n",
    "\tfor i in range(0, n):\n",
    "\t\tif a[i] >= 0:\n",
    "\t\t\thas[a[i]][0] = 1\n",
    "\t\telse:\n",
    "\t\t\thas[abs(a[i])][1] = 1\n",
    "\n",
    "# Driver code\n",
    "if __name__ == \"__main__\":\n",
    "\n",
    "\ta = [-1, 9, -5, -8, -5, -2]\n",
    "\tn = len(a)\n",
    "\n",
    "\tMAX = 1000\n",
    "\t\n",
    "\t# Since array is global, it is\n",
    "\t# initialized as 0.\n",
    "\thas = [[0 for i in range(2)] \n",
    "\t\t\tfor j in range(MAX + 1)]\n",
    "\tinsert(a, n)\n",
    "\n",
    "\tX = -5\n",
    "\tif search(X) == True:\n",
    "\t\tprint(\"Present\")\n",
    "\telse:\n",
    "\t\tprint(\"Not Present\")\n",
    "\n",
    "# This code is contributed by Rituraj Jain\n"
   ]
  },
  {
   "cell_type": "code",
   "execution_count": null,
   "metadata": {},
   "outputs": [],
   "source": [
    "def func(n):\n",
    "    lst=[]\n",
    "    for i in range(20):\n",
    "        lst[i]=[0,0]\n",
    "        \n",
    "\n"
   ]
  },
  {
   "cell_type": "code",
   "execution_count": 1,
   "metadata": {},
   "outputs": [],
   "source": []
  },
  {
   "cell_type": "code",
   "execution_count": 12,
   "metadata": {},
   "outputs": [
    {
     "data": {
      "text/plain": [
       "[[0, 0], [0, 0], [0, 0], [0, 0], [0, 0], [0, 0], [0, 0], [0, 0], [0, 0]]"
      ]
     },
     "execution_count": 12,
     "metadata": {},
     "output_type": "execute_result"
    }
   ],
   "source": []
  },
  {
   "cell_type": "markdown",
   "metadata": {},
   "source": [
    "# Index Mapping ( Trivial Hashing )"
   ]
  },
  {
   "cell_type": "code",
   "execution_count": 41,
   "metadata": {},
   "outputs": [],
   "source": [
    "\n",
    "lst = [-1, 9, -5, -8, -5, -2]\n",
    "\n",
    "def insert(lst):\n",
    "    l=len(lst)\n",
    "    global hash\n",
    "    hash = [[0 for i in range(2)] for j in range(max(lst)+1)]\n",
    "    for i in range(l):\n",
    "        ele = lst[i]\n",
    "        if ele>=0:\n",
    "            hash[ele][0]=1\n",
    "        else:\n",
    "            hash[-ele][1]=1\n",
    "    # print(hash)\n",
    "    # return hash\n",
    "\n",
    "def check(n):\n",
    "    if n>=0:\n",
    "        if hash[n][0]==1:\n",
    "            return \"Present\"\n",
    "        # else:\n",
    "        return \"not present\"\n",
    "    else:\n",
    "        if hash[-n][1]==1:\n",
    "            return \"present\"\n",
    "        # print(hash)\n",
    "        return \"not present\"\n",
    "\n",
    "insert(lst)\n"
   ]
  },
  {
   "cell_type": "code",
   "execution_count": 42,
   "metadata": {},
   "outputs": [
    {
     "data": {
      "text/plain": [
       "'not present'"
      ]
     },
     "execution_count": 42,
     "metadata": {},
     "output_type": "execute_result"
    }
   ],
   "source": [
    "check(-9)"
   ]
  },
  {
   "cell_type": "markdown",
   "metadata": {},
   "source": [
    "# Separate Chaining Collision Handling Technique in Hashing"
   ]
  },
  {
   "cell_type": "code",
   "execution_count": null,
   "metadata": {},
   "outputs": [],
   "source": []
  },
  {
   "cell_type": "code",
   "execution_count": null,
   "metadata": {},
   "outputs": [],
   "source": []
  },
  {
   "cell_type": "code",
   "execution_count": null,
   "metadata": {},
   "outputs": [],
   "source": []
  },
  {
   "cell_type": "code",
   "execution_count": null,
   "metadata": {},
   "outputs": [],
   "source": []
  },
  {
   "cell_type": "code",
   "execution_count": null,
   "metadata": {},
   "outputs": [],
   "source": []
  },
  {
   "cell_type": "code",
   "execution_count": null,
   "metadata": {},
   "outputs": [],
   "source": []
  }
 ],
 "metadata": {
  "kernelspec": {
   "display_name": "Python 3",
   "language": "python",
   "name": "python3"
  },
  "language_info": {
   "codemirror_mode": {
    "name": "ipython",
    "version": 3
   },
   "file_extension": ".py",
   "mimetype": "text/x-python",
   "name": "python",
   "nbconvert_exporter": "python",
   "pygments_lexer": "ipython3",
   "version": "3.12.3"
  }
 },
 "nbformat": 4,
 "nbformat_minor": 2
}
